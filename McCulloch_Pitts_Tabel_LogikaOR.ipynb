{
  "nbformat": 4,
  "nbformat_minor": 0,
  "metadata": {
    "colab": {
      "provenance": []
    },
    "kernelspec": {
      "name": "python3",
      "display_name": "Python 3"
    },
    "language_info": {
      "name": "python"
    }
  },
  "cells": [
    {
      "cell_type": "code",
      "execution_count": 1,
      "metadata": {
        "id": "I1vULLlZGvYr"
      },
      "outputs": [],
      "source": [
        "import numpy as np"
      ]
    },
    {
      "cell_type": "code",
      "source": [
        "# deklarasi tabel kebenaran logika OR dengan numpy\n",
        "column_x1 = np.array([0, 1, 0, 1])\n",
        "column_x2 = np.array([0, 0, 1, 1])\n",
        "column_y = np.array([0, 1, 1, 1])"
      ],
      "metadata": {
        "id": "eiOek5YkG8FU"
      },
      "execution_count": 2,
      "outputs": []
    },
    {
      "cell_type": "code",
      "source": [
        "# deklarasi bobot/weight dan threshold\n",
        "weight_1 = 1\n",
        "weight_2 = 1\n",
        "threshold = 1"
      ],
      "metadata": {
        "id": "BpwktzTJG-kh"
      },
      "execution_count": 3,
      "outputs": []
    },
    {
      "cell_type": "code",
      "source": [
        "# melakukan perhitungan nilai net\n",
        "net = (column_x1 * weight_1) + (column_x2 * weight_2)\n",
        "\n",
        "# melakukan perhitungan f(net) atau activation function\n",
        "y_net = (net >= threshold).astype(int)"
      ],
      "metadata": {
        "id": "BE5TwCcQHAPs"
      },
      "execution_count": 4,
      "outputs": []
    },
    {
      "cell_type": "code",
      "source": [
        "def showFNetColumnY():\n",
        "    print(\"Nilai y_net: \", y_net)\n",
        "    print(\"Nilai kolom y: \", column_y)"
      ],
      "metadata": {
        "id": "3BD8WzqHHCl8"
      },
      "execution_count": 5,
      "outputs": []
    },
    {
      "cell_type": "code",
      "source": [
        "def compareColumnYColumnFNet():\n",
        "    # loop to check if all members of y match with y_net\n",
        "    for i in range(len(column_y)):\n",
        "        if column_y[i] != y_net[i]:\n",
        "            print(\"Nilai dari kolom output tabel kebenaran logika OR tidak sesuai dengan hasil perhitungan McCulloch Pitts\")\n",
        "            showFNetColumnY()\n",
        "    print(\"Nilai dari kolom output tabel kebenaran logika OR sesuai dengan hasil perhitungan McCulloch Pitts\")\n",
        "    showFNetColumnY()"
      ],
      "metadata": {
        "id": "TKT33eLeHE-k"
      },
      "execution_count": 6,
      "outputs": []
    },
    {
      "cell_type": "code",
      "source": [
        "# uji coba\n",
        "model_neuron = compareColumnYColumnFNet()\n",
        "model_neuron"
      ],
      "metadata": {
        "colab": {
          "base_uri": "https://localhost:8080/"
        },
        "id": "T2imGHOzHHtW",
        "outputId": "df753d1d-0c66-413b-c84a-df35c56735bc"
      },
      "execution_count": 7,
      "outputs": [
        {
          "output_type": "stream",
          "name": "stdout",
          "text": [
            "Nilai dari kolom output tabel kebenaran logika OR sesuai dengan hasil perhitungan McCulloch Pitts\n",
            "Nilai y_net:  [0 1 1 1]\n",
            "Nilai kolom y:  [0 1 1 1]\n"
          ]
        }
      ]
    }
  ]
}